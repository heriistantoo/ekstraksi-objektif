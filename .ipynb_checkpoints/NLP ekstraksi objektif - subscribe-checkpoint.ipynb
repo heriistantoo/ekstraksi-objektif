{
 "cells": [
  {
   "cell_type": "code",
   "execution_count": 6,
   "metadata": {},
   "outputs": [
    {
     "name": "stdout",
     "output_type": "stream",
     "text": [
      "checked in at the Affinia Hotel in Chicago shortly after dinner on Tuesday, I was greeted by very frendly staff from the valet service to front desk. You can tell people were happy at the hotel. I was pleasantly surprised when I got to my room. The room was very well decorated and well thought out. The furniture was in the right location and there was lots of space. Plus it was convenient with lots of power outlets The bedroom and washroom was very clean and I had a great sleep in their very comfortable bed. I was told by front desk i could choose from 6 different pillows, although i did not take advantage of this offer i thought what a great idea. Once in a while you come across hotels with great service, well thought out rooms in a perfect location (right off Magnificent Mile). When visiting Chicago again I will definitely try and stay at Affinia again \n",
      "\n",
      "Chicago is one of our favorite cities to visit. Some friends suggested trying The Talbott. I'm delighted we took them up. The Talbott is a great 'small' hotel a block and a half off of Michigan Avenue near the Four Seasons, Drake and Westin. The concierge staff was most helpfull. Gene and Stephanie took great care of us. The rooms were spacious and very fresh. The elevators could be a bit slow at times. Aside from the construction next door, our stay was perfect. Bice now runs the hotel restaurant. We enjoyed having breakfast there. We will stay there again. \n",
      "\n",
      "In a very nice location close to shopping and places to eat and also in a beautiful neighborhood. A small hotel with a pleasant place to sit in the lobby, the Pump Room is a classic place to have a drink. We did not have dinner there so I can not comment but we enjoyed people watching while we had an afternoon drink looking out the window at the people in the neighborhood. It is a short walk to very good shopping and eating. \n",
      "\n",
      "I Stayed at this hotel with 3 friends or 4 nights. The hotel was clean and tidy, throughout. The Concierge Christopher was excellent and helped as with all our needs, gave us discount vouchers etc. Hotel was in excellent position. 3 blocks from John Hancok Building and more importantly The Cheesecake Factory , Bloomingdales 3 blocks away and the Water Tower Shopping Centre 2 blocks away. We went to the huge I Max cinema which is about ten minutes away. Cant wait to go back to Chicago and The Affinia \n",
      "\n",
      "This is a great find for downtown Chicago. The price is right and the staff are excellent. As noted, there is construction going on around the hotel, but I didn't notice any issues that disturbed sleeping. I asked for a quiet room on an upper floor, and was gladly given one. The lobby is small, the atmosphere is that of a small boutique hotel. The concierge, Stephanie did a super job in finding us a restaurant and booking us reservations (along with a complimentary appetizer). We had a standard room, and it was spacious, tastefully decorated--everything we needed. The bathroom had a nice whirlpool tub for soaking--and the MP3 compatible radio was a nice perk. Just can't say enough about how nice the staff are--every single person you meet. Would definitely stay here again. \n",
      "\n"
     ]
    }
   ],
   "source": [
    "import nltk\n",
    "import string\n",
    "import mysql.connector\n",
    "\n",
    "db = mysql.connector.connect(\n",
    "    host = \"localhost\",\n",
    "    user = \"root\",\n",
    "    passwd = \"\",\n",
    "    database = \"youtube\"\n",
    ")\n",
    "\n",
    "cursor = db.cursor()\n",
    "\n",
    "def convertTuple(tup):\n",
    "    str = ''.join(tup)\n",
    "    return str\n",
    "\n",
    "def textToView(id_text):\n",
    "    sql = \"SELECT text from review WHERE id_text = {}\".format(id_text)\n",
    "    cursor.execute(sql)\n",
    "    results = cursor.fetchall()\n",
    "    str1 = convertTuple(results[0])\n",
    "    text = str1\n",
    "    \n",
    "    textLower = text.translate(str.maketrans('','',string.punctuation)).lower()\n",
    "    \n",
    "    \n",
    "    print(text)\n",
    "    print()\n",
    "\n",
    "sql = \"SELECT id_text FROM review\"\n",
    "cursor.execute(sql)\n",
    "results = cursor.fetchall()\n",
    "\n",
    "for id in results:\n",
    "    textToView(id[0])"
   ]
  }
 ],
 "metadata": {
  "kernelspec": {
   "display_name": "Python 3",
   "language": "python",
   "name": "python3"
  },
  "language_info": {
   "codemirror_mode": {
    "name": "ipython",
    "version": 3
   },
   "file_extension": ".py",
   "mimetype": "text/x-python",
   "name": "python",
   "nbconvert_exporter": "python",
   "pygments_lexer": "ipython3",
   "version": "3.8.5"
  }
 },
 "nbformat": 4,
 "nbformat_minor": 4
}
