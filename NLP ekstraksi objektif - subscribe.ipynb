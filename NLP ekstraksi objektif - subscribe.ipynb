{
 "cells": [
  {
   "cell_type": "code",
   "execution_count": 9,
   "metadata": {},
   "outputs": [
    {
     "name": "stdout",
     "output_type": "stream",
     "text": [
      "[('checked', 'VBN'), ('in', 'IN'), ('at', 'IN'), ('the', 'DT'), ('affinia', 'JJ'), ('hotel', 'NN'), ('in', 'IN'), ('chicago', 'NN'), ('shortly', 'RB'), ('after', 'IN'), ('dinner', 'NN'), ('on', 'IN'), ('tuesday', 'NN'), ('i', 'NN'), ('was', 'VBD'), ('greeted', 'VBN'), ('by', 'IN'), ('very', 'RB'), ('frendly', 'JJ'), ('staff', 'NN'), ('from', 'IN'), ('the', 'DT'), ('valet', 'NN'), ('service', 'NN'), ('to', 'TO'), ('front', 'VB'), ('desk', 'NN'), ('you', 'PRP'), ('can', 'MD'), ('tell', 'VB'), ('people', 'NNS'), ('were', 'VBD'), ('happy', 'JJ'), ('at', 'IN'), ('the', 'DT'), ('hotel', 'NN'), ('i', 'NN'), ('was', 'VBD'), ('pleasantly', 'RB'), ('surprised', 'JJ'), ('when', 'WRB'), ('i', 'NN'), ('got', 'VBD'), ('to', 'TO'), ('my', 'PRP$'), ('room', 'NN'), ('the', 'DT'), ('room', 'NN'), ('was', 'VBD'), ('very', 'RB'), ('well', 'RB'), ('decorated', 'VBN'), ('and', 'CC'), ('well', 'RB'), ('thought', 'VBN'), ('out', 'RP'), ('the', 'DT'), ('furniture', 'NN'), ('was', 'VBD'), ('in', 'IN'), ('the', 'DT'), ('right', 'JJ'), ('location', 'NN'), ('and', 'CC'), ('there', 'EX'), ('was', 'VBD'), ('lots', 'NNS'), ('of', 'IN'), ('space', 'NN'), ('plus', 'CC'), ('it', 'PRP'), ('was', 'VBD'), ('convenient', 'JJ'), ('with', 'IN'), ('lots', 'NNS'), ('of', 'IN'), ('power', 'NN'), ('outlets', 'NNS'), ('the', 'DT'), ('bedroom', 'NN'), ('and', 'CC'), ('washroom', 'NN'), ('was', 'VBD'), ('very', 'RB'), ('clean', 'JJ'), ('and', 'CC'), ('i', 'NN'), ('had', 'VBD'), ('a', 'DT'), ('great', 'JJ'), ('sleep', 'NN'), ('in', 'IN'), ('their', 'PRP$'), ('very', 'NN'), ('comfortable', 'JJ'), ('bed', 'NN'), ('i', 'NN'), ('was', 'VBD'), ('told', 'VBN'), ('by', 'IN'), ('front', 'NN'), ('desk', 'NN'), ('i', 'NN'), ('could', 'MD'), ('choose', 'VB'), ('from', 'IN'), ('6', 'CD'), ('different', 'JJ'), ('pillows', 'NNS'), ('although', 'IN'), ('i', 'NN'), ('did', 'VBD'), ('not', 'RB'), ('take', 'VB'), ('advantage', 'NN'), ('of', 'IN'), ('this', 'DT'), ('offer', 'NN'), ('i', 'VBZ'), ('thought', 'VBD'), ('what', 'WP'), ('a', 'DT'), ('great', 'JJ'), ('idea', 'NN'), ('once', 'RB'), ('in', 'IN'), ('a', 'DT'), ('while', 'NN'), ('you', 'PRP'), ('come', 'VBP'), ('across', 'IN'), ('hotels', 'NNS'), ('with', 'IN'), ('great', 'JJ'), ('service', 'NN'), ('well', 'RB'), ('thought', 'VBN'), ('out', 'RP'), ('rooms', 'NNS'), ('in', 'IN'), ('a', 'DT'), ('perfect', 'JJ'), ('location', 'NN'), ('right', 'VBD'), ('off', 'RP'), ('magnificent', 'JJ'), ('mile', 'NN'), ('when', 'WRB'), ('visiting', 'VBG'), ('chicago', 'RB'), ('again', 'RB'), ('i', 'NN'), ('will', 'MD'), ('definitely', 'RB'), ('try', 'VB'), ('and', 'CC'), ('stay', 'VB'), ('at', 'IN'), ('affinia', 'NN'), ('again', 'RB')]\n",
      "\n",
      "[('chicago', 'NN'), ('is', 'VBZ'), ('one', 'CD'), ('of', 'IN'), ('our', 'PRP$'), ('favorite', 'JJ'), ('cities', 'NNS'), ('to', 'TO'), ('visit', 'VB'), ('some', 'DT'), ('friends', 'NNS'), ('suggested', 'VBD'), ('trying', 'VBG'), ('the', 'DT'), ('talbott', 'NN'), ('im', 'NN'), ('delighted', 'VBD'), ('we', 'PRP'), ('took', 'VBD'), ('them', 'PRP'), ('up', 'RP'), ('the', 'DT'), ('talbott', 'NN'), ('is', 'VBZ'), ('a', 'DT'), ('great', 'JJ'), ('small', 'JJ'), ('hotel', 'NN'), ('a', 'DT'), ('block', 'NN'), ('and', 'CC'), ('a', 'DT'), ('half', 'NN'), ('off', 'IN'), ('of', 'IN'), ('michigan', 'JJ'), ('avenue', 'NN'), ('near', 'IN'), ('the', 'DT'), ('four', 'CD'), ('seasons', 'NNS'), ('drake', 'VBP'), ('and', 'CC'), ('westin', 'VBP'), ('the', 'DT'), ('concierge', 'NN'), ('staff', 'NN'), ('was', 'VBD'), ('most', 'RBS'), ('helpfull', 'JJ'), ('gene', 'NN'), ('and', 'CC'), ('stephanie', 'JJ'), ('took', 'VBD'), ('great', 'JJ'), ('care', 'NN'), ('of', 'IN'), ('us', 'PRP'), ('the', 'DT'), ('rooms', 'NNS'), ('were', 'VBD'), ('spacious', 'JJ'), ('and', 'CC'), ('very', 'RB'), ('fresh', 'JJ'), ('the', 'DT'), ('elevators', 'NNS'), ('could', 'MD'), ('be', 'VB'), ('a', 'DT'), ('bit', 'NN'), ('slow', 'JJ'), ('at', 'IN'), ('times', 'NNS'), ('aside', 'RB'), ('from', 'IN'), ('the', 'DT'), ('construction', 'NN'), ('next', 'IN'), ('door', 'NN'), ('our', 'PRP$'), ('stay', 'NN'), ('was', 'VBD'), ('perfect', 'JJ'), ('bice', 'NN'), ('now', 'RB'), ('runs', 'VBZ'), ('the', 'DT'), ('hotel', 'NN'), ('restaurant', 'NN'), ('we', 'PRP'), ('enjoyed', 'VBD'), ('having', 'VBG'), ('breakfast', 'NN'), ('there', 'EX'), ('we', 'PRP'), ('will', 'MD'), ('stay', 'VB'), ('there', 'RB'), ('again', 'RB')]\n",
      "\n",
      "[('in', 'IN'), ('a', 'DT'), ('very', 'RB'), ('nice', 'JJ'), ('location', 'NN'), ('close', 'RB'), ('to', 'TO'), ('shopping', 'NN'), ('and', 'CC'), ('places', 'NNS'), ('to', 'TO'), ('eat', 'VB'), ('and', 'CC'), ('also', 'RB'), ('in', 'IN'), ('a', 'DT'), ('beautiful', 'JJ'), ('neighborhood', 'NN'), ('a', 'DT'), ('small', 'JJ'), ('hotel', 'NN'), ('with', 'IN'), ('a', 'DT'), ('pleasant', 'JJ'), ('place', 'NN'), ('to', 'TO'), ('sit', 'VB'), ('in', 'IN'), ('the', 'DT'), ('lobby', 'NN'), ('the', 'DT'), ('pump', 'NN'), ('room', 'NN'), ('is', 'VBZ'), ('a', 'DT'), ('classic', 'JJ'), ('place', 'NN'), ('to', 'TO'), ('have', 'VB'), ('a', 'DT'), ('drink', 'NN'), ('we', 'PRP'), ('did', 'VBD'), ('not', 'RB'), ('have', 'VB'), ('dinner', 'NN'), ('there', 'RB'), ('so', 'RB'), ('i', 'JJ'), ('can', 'MD'), ('not', 'RB'), ('comment', 'VB'), ('but', 'CC'), ('we', 'PRP'), ('enjoyed', 'VBP'), ('people', 'NNS'), ('watching', 'VBG'), ('while', 'IN'), ('we', 'PRP'), ('had', 'VBD'), ('an', 'DT'), ('afternoon', 'NN'), ('drink', 'NN'), ('looking', 'VBG'), ('out', 'RP'), ('the', 'DT'), ('window', 'NN'), ('at', 'IN'), ('the', 'DT'), ('people', 'NNS'), ('in', 'IN'), ('the', 'DT'), ('neighborhood', 'NN'), ('it', 'PRP'), ('is', 'VBZ'), ('a', 'DT'), ('short', 'JJ'), ('walk', 'NN'), ('to', 'TO'), ('very', 'RB'), ('good', 'JJ'), ('shopping', 'NN'), ('and', 'CC'), ('eating', 'NN')]\n",
      "\n",
      "[('i', 'JJ'), ('stayed', 'VBD'), ('at', 'IN'), ('this', 'DT'), ('hotel', 'NN'), ('with', 'IN'), ('3', 'CD'), ('friends', 'NNS'), ('or', 'CC'), ('4', 'CD'), ('nights', 'NNS'), ('the', 'DT'), ('hotel', 'NN'), ('was', 'VBD'), ('clean', 'JJ'), ('and', 'CC'), ('tidy', 'NN'), ('throughout', 'IN'), ('the', 'DT'), ('concierge', 'NN'), ('christopher', 'NN'), ('was', 'VBD'), ('excellent', 'JJ'), ('and', 'CC'), ('helped', 'VBD'), ('as', 'IN'), ('with', 'IN'), ('all', 'DT'), ('our', 'PRP$'), ('needs', 'NNS'), ('gave', 'VBD'), ('us', 'PRP'), ('discount', 'NN'), ('vouchers', 'NNS'), ('etc', 'VBP'), ('hotel', 'NN'), ('was', 'VBD'), ('in', 'IN'), ('excellent', 'JJ'), ('position', 'NN'), ('3', 'CD'), ('blocks', 'NNS'), ('from', 'IN'), ('john', 'NN'), ('hancok', 'NN'), ('building', 'NN'), ('and', 'CC'), ('more', 'RBR'), ('importantly', 'RB'), ('the', 'DT'), ('cheesecake', 'NN'), ('factory', 'NN'), ('bloomingdales', 'VBZ'), ('3', 'CD'), ('blocks', 'NNS'), ('away', 'RB'), ('and', 'CC'), ('the', 'DT'), ('water', 'NN'), ('tower', 'NN'), ('shopping', 'NN'), ('centre', 'NN'), ('2', 'CD'), ('blocks', 'NNS'), ('away', 'RB'), ('we', 'PRP'), ('went', 'VBD'), ('to', 'TO'), ('the', 'DT'), ('huge', 'JJ'), ('i', 'NN'), ('max', 'VBP'), ('cinema', 'NN'), ('which', 'WDT'), ('is', 'VBZ'), ('about', 'IN'), ('ten', 'JJ'), ('minutes', 'NNS'), ('away', 'RB'), ('cant', 'JJ'), ('wait', 'NN'), ('to', 'TO'), ('go', 'VB'), ('back', 'RB'), ('to', 'TO'), ('chicago', 'NN'), ('and', 'CC'), ('the', 'DT'), ('affinia', 'NN')]\n",
      "\n",
      "[('this', 'DT'), ('is', 'VBZ'), ('a', 'DT'), ('great', 'JJ'), ('find', 'NN'), ('for', 'IN'), ('downtown', 'NN'), ('chicago', 'VBP'), ('the', 'DT'), ('price', 'NN'), ('is', 'VBZ'), ('right', 'JJ'), ('and', 'CC'), ('the', 'DT'), ('staff', 'NN'), ('are', 'VBP'), ('excellent', 'JJ'), ('as', 'IN'), ('noted', 'JJ'), ('there', 'EX'), ('is', 'VBZ'), ('construction', 'NN'), ('going', 'VBG'), ('on', 'IN'), ('around', 'IN'), ('the', 'DT'), ('hotel', 'NN'), ('but', 'CC'), ('i', 'JJ'), ('didnt', 'NN'), ('notice', 'NN'), ('any', 'DT'), ('issues', 'NNS'), ('that', 'WDT'), ('disturbed', 'VBD'), ('sleeping', 'VBG'), ('i', 'NN'), ('asked', 'VBD'), ('for', 'IN'), ('a', 'DT'), ('quiet', 'JJ'), ('room', 'NN'), ('on', 'IN'), ('an', 'DT'), ('upper', 'JJ'), ('floor', 'NN'), ('and', 'CC'), ('was', 'VBD'), ('gladly', 'RB'), ('given', 'VBN'), ('one', 'CD'), ('the', 'DT'), ('lobby', 'NN'), ('is', 'VBZ'), ('small', 'JJ'), ('the', 'DT'), ('atmosphere', 'NN'), ('is', 'VBZ'), ('that', 'IN'), ('of', 'IN'), ('a', 'DT'), ('small', 'JJ'), ('boutique', 'NN'), ('hotel', 'NN'), ('the', 'DT'), ('concierge', 'NN'), ('stephanie', 'NN'), ('did', 'VBD'), ('a', 'DT'), ('super', 'NN'), ('job', 'NN'), ('in', 'IN'), ('finding', 'VBG'), ('us', 'PRP'), ('a', 'DT'), ('restaurant', 'NN'), ('and', 'CC'), ('booking', 'VBG'), ('us', 'PRP'), ('reservations', 'NNS'), ('along', 'IN'), ('with', 'IN'), ('a', 'DT'), ('complimentary', 'JJ'), ('appetizer', 'NN'), ('we', 'PRP'), ('had', 'VBD'), ('a', 'DT'), ('standard', 'JJ'), ('room', 'NN'), ('and', 'CC'), ('it', 'PRP'), ('was', 'VBD'), ('spacious', 'JJ'), ('tastefully', 'RB'), ('decoratedeverything', 'VBG'), ('we', 'PRP'), ('needed', 'VBD'), ('the', 'DT'), ('bathroom', 'NN'), ('had', 'VBD'), ('a', 'DT'), ('nice', 'JJ'), ('whirlpool', 'NN'), ('tub', 'NN'), ('for', 'IN'), ('soakingand', 'NN'), ('the', 'DT'), ('mp3', 'NN'), ('compatible', 'JJ'), ('radio', 'NN'), ('was', 'VBD'), ('a', 'DT'), ('nice', 'JJ'), ('perk', 'NN'), ('just', 'RB'), ('cant', 'JJ'), ('say', 'VBP'), ('enough', 'RB'), ('about', 'IN'), ('how', 'WRB'), ('nice', 'JJ'), ('the', 'DT'), ('staff', 'NN'), ('areevery', 'NN'), ('single', 'JJ'), ('person', 'NN'), ('you', 'PRP'), ('meet', 'VBP'), ('would', 'MD'), ('definitely', 'RB'), ('stay', 'VB'), ('here', 'RB'), ('again', 'RB')]\n",
      "\n"
     ]
    }
   ],
   "source": [
    "import nltk\n",
    "import string\n",
    "import mysql.connector\n",
    "\n",
    "db = mysql.connector.connect(\n",
    "    host = \"localhost\",\n",
    "    user = \"root\",\n",
    "    passwd = \"\",\n",
    "    database = \"youtube\"\n",
    ")\n",
    "\n",
    "cursor = db.cursor()\n",
    "\n",
    "def convertTuple(tup):\n",
    "    str = ''.join(tup)\n",
    "    return str\n",
    "\n",
    "def textToView(id_text):\n",
    "    sql = \"SELECT text from review WHERE id_text = {}\".format(id_text)\n",
    "    cursor.execute(sql)\n",
    "    results = cursor.fetchall()\n",
    "    str1 = convertTuple(results[0])\n",
    "    text = str1\n",
    "    \n",
    "    textLower = text.translate(str.maketrans('','',string.punctuation)).lower()\n",
    "    tokens = nltk.word_tokenize(textLower)\n",
    "    \n",
    "    tags = nltk.pos_tag(tokens)\n",
    "    \n",
    "    objektifCounter =0\n",
    "    \n",
    "    for x in range (((len(tags)))):\n",
    "        if tags[x][1] == \"JJ\":\n",
    "            objektifCounter += 1\n",
    "        elif tags[x][1] == \"JJR\":\n",
    "            objektifCounter += 1\n",
    "        elif tags[x][1] == \"JJS:\n",
    "            objektifCounter += 1\n",
    "    \n",
    "    print(tags)\n",
    "    print()\n",
    "\n",
    "sql = \"SELECT id_text FROM review\"\n",
    "cursor.execute(sql)\n",
    "results = cursor.fetchall()\n",
    "\n",
    "for id in results:\n",
    "    textToView(id[0])"
   ]
  }
 ],
 "metadata": {
  "kernelspec": {
   "display_name": "Python 3",
   "language": "python",
   "name": "python3"
  },
  "language_info": {
   "codemirror_mode": {
    "name": "ipython",
    "version": 3
   },
   "file_extension": ".py",
   "mimetype": "text/x-python",
   "name": "python",
   "nbconvert_exporter": "python",
   "pygments_lexer": "ipython3",
   "version": "3.8.5"
  }
 },
 "nbformat": 4,
 "nbformat_minor": 4
}
